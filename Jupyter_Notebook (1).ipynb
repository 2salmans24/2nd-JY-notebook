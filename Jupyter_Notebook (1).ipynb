{
 "cells": [
  {
   "cell_type": "markdown",
   "metadata": {},
   "source": [
    "<center>\n",
    "    <img src=\"https://cf-courses-data.s3.us.cloud-object-storage.appdomain.cloud/IBMDeveloperSkillsNetwork-DS0105EN-SkillsNetwork/labs/Module2/images/SN_web_lightmode.png\" width=\"300\" alt=\"cognitiveclass.ai logo\">\n",
    "</center>\n"
   ]
  },
  {
   "cell_type": "markdown",
   "metadata": {
    "tags": []
   },
   "source": [
    "#### Add your code below following the instructions given in the course\n"
   ]
  },
  {
   "cell_type": "markdown",
   "metadata": {},
   "source": [
    "<a href=\"https://dataplatform.cloud.ibm.com/gallery\">IBM Cloud Gallery</a>"
   ]
  },
  {
   "cell_type": "markdown",
   "metadata": {
    "tags": []
   },
   "source": [
    "# Header 1. "
   ]
  },
  {
   "cell_type": "markdown",
   "metadata": {},
   "source": [
    "| header | header | header |\n",
    "| ------ | ------ |-----| \n",
    "| cell | cell|\n",
    "| cell | cell|\n",
    "| cell | cell|\n",
    "| cell | cell|"
   ]
  },
  {
   "cell_type": "code",
   "execution_count": 17,
   "metadata": {},
   "outputs": [
    {
     "name": "stdout",
     "output_type": "stream",
     "text": [
      "10       9    1    10    11\n",
      "9       8    1    9    10\n",
      "8       7    1    8    5\n",
      "7       6    1    7    4\n",
      "6       5    1    6    7\n",
      "5       4    1    5    6\n",
      "4       3    1    4    1\n",
      "3       2    1    3    0\n",
      "2       1    1    2    3\n",
      "11       9    2    22    11\n",
      "10       8    2    20    10\n",
      "9       7    2    18    5\n",
      "8       6    2    16    4\n",
      "7       5    2    14    7\n",
      "6       4    2    12    6\n",
      "5       3    2    10    1\n",
      "4       2    2    8    0\n",
      "3       1    2    6    3\n",
      "12       9    3    36    11\n",
      "11       8    3    33    10\n",
      "10       7    3    30    5\n",
      "9       6    3    27    4\n",
      "8       5    3    24    7\n",
      "7       4    3    21    6\n",
      "6       3    3    18    1\n",
      "5       2    3    15    0\n",
      "4       1    3    12    3\n",
      "13       9    4    52    11\n",
      "12       8    4    48    10\n",
      "11       7    4    44    5\n",
      "10       6    4    40    4\n",
      "9       5    4    36    7\n",
      "8       4    4    32    6\n",
      "7       3    4    28    1\n",
      "6       2    4    24    0\n",
      "5       1    4    20    3\n"
     ]
    }
   ],
   "source": [
    "for i in [1, 2, 3, 4]:\n",
    "    for x in [9, 8, 7, 6, 5, 4, 3, 2, 1]:\n",
    "        print(i + x, '  ', '  ', x, '  ', i, '  ', (x * i + i * i), '  ', x ^ 2)"
   ]
  },
  {
   "cell_type": "code",
   "execution_count": null,
   "metadata": {},
   "outputs": [],
   "source": []
  }
 ],
 "metadata": {
  "kernelspec": {
   "display_name": "Python",
   "language": "python",
   "name": "conda-env-python-py"
  },
  "language_info": {
   "codemirror_mode": {
    "name": "ipython",
    "version": 3
   },
   "file_extension": ".py",
   "mimetype": "text/x-python",
   "name": "python",
   "nbconvert_exporter": "python",
   "pygments_lexer": "ipython3",
   "version": "3.7.12"
  }
 },
 "nbformat": 4,
 "nbformat_minor": 4
}
